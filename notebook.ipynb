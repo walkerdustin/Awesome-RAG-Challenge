{
 "cells": [
  {
   "cell_type": "code",
   "execution_count": 26,
   "metadata": {},
   "outputs": [],
   "source": [
    "import pandas as pd\n",
    "import numpy as np\n",
    "import matplotlib.pyplot as plt\n",
    "import seaborn as sns\n",
    "import json\n",
    "\n",
    "import tiktoken\n",
    "enc = tiktoken.get_encoding(\"cl100k_base\") # this is the encoding for GPT 3 and 4\n"
   ]
  },
  {
   "cell_type": "code",
   "execution_count": 27,
   "metadata": {},
   "outputs": [],
   "source": [
    "with open(\"data/scraped_data.jsonl\") as f:\n",
    "    lines = f.read().splitlines()"
   ]
  },
  {
   "cell_type": "code",
   "execution_count": 28,
   "metadata": {},
   "outputs": [],
   "source": [
    "df_inter = pd.DataFrame(lines)\n",
    "df_inter.columns = ['json_element']\n",
    "df_inter['json_element'].apply(json.loads)\n",
    "df = pd.json_normalize(df_inter['json_element'].apply(json.loads))"
   ]
  },
  {
   "cell_type": "code",
   "execution_count": 29,
   "metadata": {},
   "outputs": [
    {
     "data": {
      "text/html": [
       "<div>\n",
       "<style scoped>\n",
       "    .dataframe tbody tr th:only-of-type {\n",
       "        vertical-align: middle;\n",
       "    }\n",
       "\n",
       "    .dataframe tbody tr th {\n",
       "        vertical-align: top;\n",
       "    }\n",
       "\n",
       "    .dataframe thead th {\n",
       "        text-align: right;\n",
       "    }\n",
       "</style>\n",
       "<table border=\"1\" class=\"dataframe\">\n",
       "  <thead>\n",
       "    <tr style=\"text-align: right;\">\n",
       "      <th></th>\n",
       "      <th>content</th>\n",
       "      <th>url</th>\n",
       "    </tr>\n",
       "  </thead>\n",
       "  <tbody>\n",
       "    <tr>\n",
       "      <th>count</th>\n",
       "      <td>2580</td>\n",
       "      <td>2580</td>\n",
       "    </tr>\n",
       "    <tr>\n",
       "      <th>unique</th>\n",
       "      <td>1598</td>\n",
       "      <td>2580</td>\n",
       "    </tr>\n",
       "    <tr>\n",
       "      <th>top</th>\n",
       "      <td>404 - Not found</td>\n",
       "      <td>https://dune.com/docs/</td>\n",
       "    </tr>\n",
       "    <tr>\n",
       "      <th>freq</th>\n",
       "      <td>804</td>\n",
       "      <td>1</td>\n",
       "    </tr>\n",
       "  </tbody>\n",
       "</table>\n",
       "</div>"
      ],
      "text/plain": [
       "                content                     url\n",
       "count              2580                    2580\n",
       "unique             1598                    2580\n",
       "top     404 - Not found  https://dune.com/docs/\n",
       "freq                804                       1"
      ]
     },
     "execution_count": 29,
     "metadata": {},
     "output_type": "execute_result"
    }
   ],
   "source": [
    "df.describe()"
   ]
  },
  {
   "cell_type": "code",
   "execution_count": null,
   "metadata": {},
   "outputs": [],
   "source": []
  },
  {
   "cell_type": "code",
   "execution_count": 30,
   "metadata": {},
   "outputs": [
    {
     "data": {
      "text/plain": [
       "content\n",
       "404 - Not found                                                                                                                                                                                                                                                                                                                                                                                                                                                                                                                                                                                                                                                                                                                                                                                                                                                                                                                                                                           804\n",
       "                                                                                                                                                                                                                                                                                                                                                                                                                                                                                                                                                                                                                                                                                                                                                                                                                                                                                                                                                                                           35\n",
       "区块表 ¶ \\n                                                                                                                                                                                                                                                                                                                                                                                                                                                                                                                                                                                                                                                                                                                                                                                                                                                                                                                                                                                   13\n",
       "交易表 ¶ \\n                                                                                                                                                                                                                                                                                                                                                                                                                                                                                                                                                                                                                                                                                                                                                                                                                                                                                                                                                                                   12\n",
       "Please wait \\n This application is starting, you will be redirected once it is ready. \\n If your are the application owner, check your logs for details.                                                                                                                                                                                                                                                                                                                                                                                                                                                                                                                                                                                                                                                                                                                                                                                                                                   12\n",
       "内部合约调用表 ¶ \\n                                                                                                                                                                                                                                                                                                                                                                                                                                                                                                                                                                                                                                                                                                                                                                                                                                                                                                                                                                               12\n",
       "事件日志表 ¶ \\n                                                                                                                                                                                                                                                                                                                                                                                                                                                                                                                                                                                                                                                                                                                                                                                                                                                                                                                                                                                 12\n",
       "原始数据表 ¶ \\n \\n \\n 区块表（Blocks）  (blocks/) \\n 交易表（Transactions）  (transactions/) \\n 事件日志表（Logs）  (event-logs/) \\n 内部合约调用表（Traces）  (traces/)                                                                                                                                                                                                                                                                                                                                                                                                                                                                                                                                                                                                                                                                                                                                                                                                                                                   6\n",
       "Example ¶ \\n \\n                                                                                                                                                                                                                                                                                                                                                                                                                                                                                                                                                                                                                                                                                                                                                                                                                                                                                                                                                                             6\n",
       "traces中的gas使用 ¶ \\n \\n 一个trace中的 gas_used 包括该trace和它所有的子trace所消耗的gas。 \\n 最初调用的 gas_used 不包括首先进行调用的费用。 \\n 您需要把21000个gas单位+发送0的费用+非零字节的费用加到顶部trace的 gas_used 值中，以得出\"真正的\" gas_used 值。 \\n 关于这个问题的更多阅读请参考这个 stackexchange条目  (https://ethereum.stackexchange.com/questions/31443/what-do-the-response-values-of-a-parity-trace-transaction-call-actually-repres) \\n 在dune中做的一个查询。 https://dune.com/queries/895857  (https://dune.com/queries/895857)                                                                                                                                                                                                                                                                                                                                                                                                                                                                                                                                              5\n",
       "Column Data ¶ \\n                                                                                                                                                                                                                                                                                                                                                                                                                                                                                                                                                                                                                                                                                                                                                                                                                                                                                                                                                                            5\n",
       "Example Request ¶ \\n                                                                                                                                                                                                                                                                                                                                                                                                                                                                                                                                                                                                                                                                                                                                                                                                                                                                                                                                                                        4\n",
       "Feedback and Suggestions ¶ \\n We appreciate your feedback and suggestions for improvement. Please email us at dunesql-feedback@dune.com with any concerns or ideas for optimization.                                                                                                                                                                                                                                                                                                                                                                                                                                                                                                                                                                                                                                                                                                                                                                                                        3\n",
       "请求参数 ¶ \\n 无需参数。 \\n                                                                                                                                                                                                                                                                                                                                                                                                                                                                                                                                                                                                                                                                                                                                                                                                                                                                                                                                                                          3\n",
       "502 Bad Gateway \\n nginx                                                                                                                                                                                                                                                                                                                                                                                                                                                                                                                                                                                                                                                                                                                                                                                                                                                                                                                                                                    3\n",
       "Querying a query ¶ \\n DuneSQL allows you to query a query, which is great for creating reusable queries, building up complex queries, and reusing queries as views. \\n \\n \\n → Querying a query  (query-a-query/) \\n \\n \\n                                                                                                                                                                                                                                                                                                                                                                                                                                                                                                                                                                                                                                                                                                                                                                  3\n",
       "¶                                                                                                                                                                                                                                                                                                                                                                                                                                                                                                                                                                                                                                                                                                                                                                                                                                                                                                                                                                                           3\n",
       "Resources and Support ¶ \\n For assistance with DuneSQL, consider the following resources: \\n \\n Google search for TrinoSQL-related queries \\n Talk to your favorite AI assistant about TrinoSQL-related questions \\n the official Trino docs - Functions and Operators  (https://trino.io/docs/current/functions.html) \\n \\n Join our #dune-sql  Discord channel  (https://discord.gg/FjwGvbgDFS)  to connect with our team and the community for help and support. \\n                                                                                                                                                                                                                                                                                                                                                                                                                                                                                                                      3\n",
       "Start building ¶ \\n Ready to start building? Once you have an  account  (https://dune.com/auth/register)  and you’ve reviewed the  Quickstart  (quickstart/) , check out these essentials to start using Dune: \\n \\n Use the  Query Editor  (app/query-editor/)  to explore data, write queries, and gain mastery \\n Make stunning  visualizations  (app/visualizations/)  with graphs, charts, and other unique options \\n Create a  Dashboard  (app/dashboards/)  to embed visualizations, graphics, and text to tell compelling stories with your data \\n \\n                                                                                                                                                                                                                                                                                                                                                                                                                             3\n",
       "Using DuneSQL ¶ \\n DuneSQL is our query engine for blockchain data. It is a fork of TrinoSQL, which is an open-source, distributed SQL query engine for running interactive analytic queries against data sources of all sizes ranging from gigabytes to petabytes. \\n We have created extensive documentation for DuneSQL, which you can find in the  DuneSQL Reference  (DuneSQL-reference/)  section of our documentation. Here you will be able to find: \\n \\n \\n \\n Functions and operators ¶  (#functions-and-operators) \\n \\n A reference guide to DuneSQL functions and operators. \\n → Functions and operators  (DuneSQL-reference/Functions-and-operators/) \\n \\n \\n Data types ¶  (#data-types) \\n \\n A reference guide to DuneSQL data types. \\n → Data types  (DuneSQL-reference/datatypes/) \\n \\n \\n Reserved keywords ¶  (#reserved-keywords) \\n \\n A list of reserved keywords in DuneSQL. \\n → Reserved keywords  (DuneSQL-reference/reserved-keywords/) \\n \\n \\n \\n       3\n",
       "Name: count, dtype: int64"
      ]
     },
     "execution_count": 30,
     "metadata": {},
     "output_type": "execute_result"
    }
   ],
   "source": [
    "df[\"content\"].value_counts().head(20)\n",
    "# some of these content are not worth embedding, so we will remove them"
   ]
  },
  {
   "cell_type": "code",
   "execution_count": 31,
   "metadata": {},
   "outputs": [
    {
     "data": {
      "text/plain": [
       "array(['404 - Not found', '', '区块表 ¶ \\n ', '交易表 ¶ \\n ',\n",
       "       'Please wait \\n This application is starting, you will be redirected once it is ready. \\n If your are the application owner, check your logs for details.',\n",
       "       '内部合约调用表 ¶ \\n ', '事件日志表 ¶ \\n ',\n",
       "       '原始数据表 ¶ \\n \\n \\n 区块表（Blocks）  (blocks/) \\n 交易表（Transactions）  (transactions/) \\n 事件日志表（Logs）  (event-logs/) \\n 内部合约调用表（Traces）  (traces/)',\n",
       "       'Example ¶ \\n \\n ',\n",
       "       'traces中的gas使用 ¶ \\n \\n 一个trace中的 gas_used 包括该trace和它所有的子trace所消耗的gas。 \\n 最初调用的 gas_used 不包括首先进行调用的费用。 \\n 您需要把21000个gas单位+发送0的费用+非零字节的费用加到顶部trace的 gas_used 值中，以得出\"真正的\" gas_used 值。 \\n 关于这个问题的更多阅读请参考这个 stackexchange条目  (https://ethereum.stackexchange.com/questions/31443/what-do-the-response-values-of-a-parity-trace-transaction-call-actually-repres) \\n 在dune中做的一个查询。 https://dune.com/queries/895857  (https://dune.com/queries/895857)',\n",
       "       'Column Data ¶ \\n ', 'Example Request ¶ \\n ',\n",
       "       'Feedback and Suggestions ¶ \\n We appreciate your feedback and suggestions for improvement. Please email us at dunesql-feedback@dune.com with any concerns or ideas for optimization.',\n",
       "       '请求参数 ¶ \\n 无需参数。 \\n ', '502 Bad Gateway \\n nginx'], dtype=object)"
      ]
     },
     "execution_count": 31,
     "metadata": {},
     "output_type": "execute_result"
    }
   ],
   "source": [
    "removed_content = df[\"content\"].value_counts().head(20).reset_index().loc[0:14][\"content\"].values\n",
    "removed_content"
   ]
  },
  {
   "cell_type": "code",
   "execution_count": 32,
   "metadata": {},
   "outputs": [
    {
     "name": "stdout",
     "output_type": "stream",
     "text": [
      "With the data cleaning, I have removed 935 rows\n",
      "There are still 62 duplicates left\n"
     ]
    },
    {
     "data": {
      "text/html": [
       "<div>\n",
       "<style scoped>\n",
       "    .dataframe tbody tr th:only-of-type {\n",
       "        vertical-align: middle;\n",
       "    }\n",
       "\n",
       "    .dataframe tbody tr th {\n",
       "        vertical-align: top;\n",
       "    }\n",
       "\n",
       "    .dataframe thead th {\n",
       "        text-align: right;\n",
       "    }\n",
       "</style>\n",
       "<table border=\"1\" class=\"dataframe\">\n",
       "  <thead>\n",
       "    <tr style=\"text-align: right;\">\n",
       "      <th></th>\n",
       "      <th>content</th>\n",
       "      <th>count</th>\n",
       "    </tr>\n",
       "  </thead>\n",
       "  <tbody>\n",
       "    <tr>\n",
       "      <th>0</th>\n",
       "      <td>Skip to content\\n          (#start-building) \\...</td>\n",
       "      <td>3</td>\n",
       "    </tr>\n",
       "    <tr>\n",
       "      <th>1</th>\n",
       "      <td>Start building ¶ \\n Ready to start building? O...</td>\n",
       "      <td>3</td>\n",
       "    </tr>\n",
       "    <tr>\n",
       "      <th>2</th>\n",
       "      <td>Resources and Support ¶ \\n For assistance with...</td>\n",
       "      <td>3</td>\n",
       "    </tr>\n",
       "    <tr>\n",
       "      <th>3</th>\n",
       "      <td>Querying a query ¶ \\n DuneSQL allows you to qu...</td>\n",
       "      <td>3</td>\n",
       "    </tr>\n",
       "    <tr>\n",
       "      <th>4</th>\n",
       "      <td>Raw data tables ¶ \\n \\n \\n Blocks  (blocks/) \\...</td>\n",
       "      <td>3</td>\n",
       "    </tr>\n",
       "    <tr>\n",
       "      <th>5</th>\n",
       "      <td>Writing efficient queries ¶ \\n An efficient qu...</td>\n",
       "      <td>3</td>\n",
       "    </tr>\n",
       "    <tr>\n",
       "      <th>6</th>\n",
       "      <td>Using DuneSQL ¶ \\n DuneSQL is our query engine...</td>\n",
       "      <td>3</td>\n",
       "    </tr>\n",
       "    <tr>\n",
       "      <th>7</th>\n",
       "      <td>DuneSQL Features ¶ \\n DuneSQL offers several u...</td>\n",
       "      <td>3</td>\n",
       "    </tr>\n",
       "    <tr>\n",
       "      <th>8</th>\n",
       "      <td>Skip to content\\n          (#dunesql-features)...</td>\n",
       "      <td>3</td>\n",
       "    </tr>\n",
       "    <tr>\n",
       "      <th>9</th>\n",
       "      <td>¶</td>\n",
       "      <td>3</td>\n",
       "    </tr>\n",
       "    <tr>\n",
       "      <th>10</th>\n",
       "      <td>Find an expert ¶ \\n There are many experts in ...</td>\n",
       "      <td>3</td>\n",
       "    </tr>\n",
       "    <tr>\n",
       "      <th>11</th>\n",
       "      <td>Learn more ¶ \\n If you’re new to blockchain or...</td>\n",
       "      <td>3</td>\n",
       "    </tr>\n",
       "    <tr>\n",
       "      <th>12</th>\n",
       "      <td>Why Dune? ¶ \\n Dune—along with our massive com...</td>\n",
       "      <td>3</td>\n",
       "    </tr>\n",
       "    <tr>\n",
       "      <th>13</th>\n",
       "      <td>查询是 Dune 魔法的核心 💖 ¶ \\n 查询是巫师用来从 Dune 数据库中提取区块链数...</td>\n",
       "      <td>2</td>\n",
       "    </tr>\n",
       "    <tr>\n",
       "      <th>14</th>\n",
       "      <td>对智能合约的调用以及发起的交易 ¶ \\n 智能合约通常具有可由外部账户(EOA)或其他智能合...</td>\n",
       "      <td>2</td>\n",
       "    </tr>\n",
       "    <tr>\n",
       "      <th>15</th>\n",
       "      <td>ERC1155 定义 ¶ \\n ERC1155标准是一个多代币标准。它可以包括同质化和非同质...</td>\n",
       "      <td>2</td>\n",
       "    </tr>\n",
       "    <tr>\n",
       "      <th>16</th>\n",
       "      <td>Dune上的表 ¶ \\n 我们将所有 ERC1155 合约的所有事件解码到相应的事件表中。 ...</td>\n",
       "      <td>2</td>\n",
       "    </tr>\n",
       "    <tr>\n",
       "      <th>17</th>\n",
       "      <td>Blocks ¶ \\n</td>\n",
       "      <td>2</td>\n",
       "    </tr>\n",
       "    <tr>\n",
       "      <th>18</th>\n",
       "      <td>代币标准 ¶ \\n</td>\n",
       "      <td>2</td>\n",
       "    </tr>\n",
       "    <tr>\n",
       "      <th>19</th>\n",
       "      <td>接口 ¶ \\n 每当我们对被触发的事件日志的子集感兴趣的时候(无论是哪个原始合约)，Dune...</td>\n",
       "      <td>2</td>\n",
       "    </tr>\n",
       "  </tbody>\n",
       "</table>\n",
       "</div>"
      ],
      "text/plain": [
       "                                              content  count\n",
       "0   Skip to content\\n          (#start-building) \\...      3\n",
       "1   Start building ¶ \\n Ready to start building? O...      3\n",
       "2   Resources and Support ¶ \\n For assistance with...      3\n",
       "3   Querying a query ¶ \\n DuneSQL allows you to qu...      3\n",
       "4   Raw data tables ¶ \\n \\n \\n Blocks  (blocks/) \\...      3\n",
       "5   Writing efficient queries ¶ \\n An efficient qu...      3\n",
       "6   Using DuneSQL ¶ \\n DuneSQL is our query engine...      3\n",
       "7   DuneSQL Features ¶ \\n DuneSQL offers several u...      3\n",
       "8   Skip to content\\n          (#dunesql-features)...      3\n",
       "9                                                   ¶      3\n",
       "10  Find an expert ¶ \\n There are many experts in ...      3\n",
       "11  Learn more ¶ \\n If you’re new to blockchain or...      3\n",
       "12  Why Dune? ¶ \\n Dune—along with our massive com...      3\n",
       "13  查询是 Dune 魔法的核心 💖 ¶ \\n 查询是巫师用来从 Dune 数据库中提取区块链数...      2\n",
       "14  对智能合约的调用以及发起的交易 ¶ \\n 智能合约通常具有可由外部账户(EOA)或其他智能合...      2\n",
       "15  ERC1155 定义 ¶ \\n ERC1155标准是一个多代币标准。它可以包括同质化和非同质...      2\n",
       "16  Dune上的表 ¶ \\n 我们将所有 ERC1155 合约的所有事件解码到相应的事件表中。 ...      2\n",
       "17                                       Blocks ¶ \\n       2\n",
       "18                                         代币标准 ¶ \\n       2\n",
       "19  接口 ¶ \\n 每当我们对被触发的事件日志的子集感兴趣的时候(无论是哪个原始合约)，Dune...      2"
      ]
     },
     "execution_count": 32,
     "metadata": {},
     "output_type": "execute_result"
    }
   ],
   "source": [
    "df_cleaned = df[~df[\"content\"].isin(removed_content)]\n",
    "print(f\"With the data cleaning, I have removed {df.shape[0] - df_cleaned.shape[0]} rows\")\n",
    "print(f\"There are still {df_cleaned[\"content\"].duplicated().sum()} duplicates left\")\n",
    "df_cleaned[\"content\"].value_counts().head(20).reset_index()"
   ]
  },
  {
   "cell_type": "code",
   "execution_count": 33,
   "metadata": {},
   "outputs": [
    {
     "data": {
      "text/plain": [
       "url\n",
       "https://dune.com/docs/                                                          1\n",
       "https://dune.com/docs/zh/reference/v2/community/reservoir/token-attributes/     1\n",
       "https://dune.com/docs/zh/reference/v2/raw/polygon/transactions/                 1\n",
       "https://dune.com/docs/zh/reference/v2/raw/polygon/traces/                       1\n",
       "https://dune.com/docs/zh/reference/v2/raw/polygon/event-logs/                   1\n",
       "                                                                               ..\n",
       "https://dune.com/docs/learning/how-tos/create-and-manage-teams/                 1\n",
       "https://dune.com/docs/learning/how-tos/create-ai-assisted-queries/              1\n",
       "https://dune.com/docs/learning/how-tos/                                         1\n",
       "https://dune.com/docs/learning/how-tos/find-datasets/#categories-of-datasets    1\n",
       "https://dune.com/docs/api/api-reference/edit-queries/#error-code-summary        1\n",
       "Name: count, Length: 2580, dtype: int64"
      ]
     },
     "execution_count": 33,
     "metadata": {},
     "output_type": "execute_result"
    }
   ],
   "source": [
    "df[\"url\"].value_counts()\n",
    "# there are no duplicate URLs"
   ]
  },
  {
   "cell_type": "code",
   "execution_count": 34,
   "metadata": {},
   "outputs": [],
   "source": [
    "# write 5 samples to a markdown file\n",
    "samples = df_cleaned[\"content\"].head(5).values\n",
    "for i, sample in enumerate(samples):\n",
    "    with open(f\"sample_{i}.md\", \"w\", encoding=\"utf-8\") as f:\n",
    "        f.write(sample)"
   ]
  },
  {
   "cell_type": "code",
   "execution_count": 35,
   "metadata": {},
   "outputs": [
    {
     "data": {
      "text/plain": [
       "\"Skip to content\\n          (#start-building) \\n \\n \\n \\n \\n \\n \\n \\n \\n \\n \\n \\n \\n \\n \\n \\n \\n \\n \\n \\n \\n \\n \\n \\n \\n \\n \\n \\n  (https://github.com/duneanalytics/docs/edit/master/docs/index.md) \\n Welcome \\n Dune is a web-based platform that allows you to query public blockchain data and aggregate it into beautiful dashboards. \\n \\n Quickstart \\n To get started with Dune in 5 minutes, see the  Quickstart  (quickstart/) . \\n \\n \\n \\n The world's blockchain data at your fingertips! \\n \\n Blockchains are open and transparent, but each chain is unique—making it difficult to understand, ingest, and aggregate data. Dune gives you the proper tools to analyze cross-chain data for different tokens, wallets, and protocols. You can also easily share your work with the community. \\n \""
      ]
     },
     "execution_count": 35,
     "metadata": {},
     "output_type": "execute_result"
    }
   ],
   "source": [
    "df_cleaned[\"content\"].head(1).values[0]"
   ]
  },
  {
   "cell_type": "code",
   "execution_count": 36,
   "metadata": {},
   "outputs": [
    {
     "name": "stderr",
     "output_type": "stream",
     "text": [
      "C:\\Users\\du-wa\\AppData\\Local\\Temp\\ipykernel_3212\\307835654.py:2: SettingWithCopyWarning: \n",
      "A value is trying to be set on a copy of a slice from a DataFrame.\n",
      "Try using .loc[row_indexer,col_indexer] = value instead\n",
      "\n",
      "See the caveats in the documentation: https://pandas.pydata.org/pandas-docs/stable/user_guide/indexing.html#returning-a-view-versus-a-copy\n",
      "  df_cleaned.loc[:, \"len\"] = df_cleaned[\"content\"].apply(lambda s: len(enc.encode(s)))\n"
     ]
    }
   ],
   "source": [
    "# How long are the articles in tokens?\n",
    "df_cleaned.loc[:, \"len\"] = df_cleaned[\"content\"].apply(lambda s: len(enc.encode(s)))"
   ]
  },
  {
   "cell_type": "code",
   "execution_count": 37,
   "metadata": {},
   "outputs": [
    {
     "data": {
      "text/plain": [
       "count    1645.000000\n",
       "mean      265.534954\n",
       "std       432.525704\n",
       "min         1.000000\n",
       "25%        52.000000\n",
       "50%       121.000000\n",
       "75%       296.000000\n",
       "max      6126.000000\n",
       "Name: len, dtype: float64"
      ]
     },
     "execution_count": 37,
     "metadata": {},
     "output_type": "execute_result"
    }
   ],
   "source": [
    "df_cleaned[\"len\"].describe()"
   ]
  },
  {
   "cell_type": "code",
   "execution_count": 38,
   "metadata": {},
   "outputs": [
    {
     "data": {
      "image/png": "[encoded data removed]",
      "text/plain": [
       "<Figure size 640x480 with 1 Axes>"
      ]
     },
     "metadata": {},
     "output_type": "display_data"
    }
   ],
   "source": [
    "# df_cleaned[\"len\"].hist(bins=100)\n",
    "\n",
    "# make a histogram of the thread token length\n",
    "plt.hist(df_cleaned[\"len\"].values, bins = 10 ** np.linspace(np.log10(1), np.log10(6126), 50))\n",
    "plt.xscale(\"log\")\n",
    "plt.xlabel(\"Token length\")\n",
    "plt.ylabel(\"Frequency\")\n",
    "plt.title(\"logarithmic Histogram of content token length\")\n",
    "plt.axvline(x=512, color=\"red\")\n",
    "plt.axvline(x=8191, color=\"green\")\n",
    "plt.show()"
   ]
  },
  {
   "cell_type": "markdown",
   "metadata": {},
   "source": [
    "## Create the index with Llama index"
   ]
  },
  {
   "cell_type": "code",
   "execution_count": 43,
   "metadata": {},
   "outputs": [],
   "source": [
    "from llama_index.core import Settings\n",
    "from llama_index.embeddings.openai import OpenAIEmbedding\n",
    "from llama_index.llms.openai import OpenAI\n",
    "import tiktoken\n",
    "enc = tiktoken.get_encoding(\"cl100k_base\") # this is the encoding for GPT 3 and 4\n",
    "\n",
    "llm = OpenAI(model=\"gpt-3.5-turbo\")\n",
    "Settings.embed_model = OpenAIEmbedding(model=\"text-embedding-3-large\", embed_batch_size=512)\n",
    "Settings.llm = llm"
   ]
  },
  {
   "cell_type": "code",
   "execution_count": 40,
   "metadata": {},
   "outputs": [],
   "source": [
    "from llama_index.core import Document\n",
    "documents = [Document(content=content) for content in df_cleaned[\"content\"].values]\n",
    "document = Document(text=\"\\n\\n\".join([content for content in df_cleaned[\"content\"].values]))"
   ]
  },
  {
   "cell_type": "code",
   "execution_count": 41,
   "metadata": {},
   "outputs": [
    {
     "name": "stdout",
     "output_type": "stream",
     "text": [
      "✅ In Answer Relevance, input prompt will be set to __record__.main_input or `Select.RecordInput` .\n",
      "✅ In Answer Relevance, input response will be set to __record__.main_output or `Select.RecordOutput` .\n",
      "✅ In Context Relevance, input prompt will be set to __record__.main_input or `Select.RecordInput` .\n",
      "✅ In Context Relevance, input response will be set to __record__.app.query.rets.source_nodes[:].node.text .\n",
      "✅ In Groundedness, input source will be set to __record__.app.query.rets.source_nodes[:].node.text .\n",
      "✅ In Groundedness, input statement will be set to __record__.main_output or `Select.RecordOutput` .\n"
     ]
    },
    {
     "name": "stderr",
     "output_type": "stream",
     "text": [
      "[nltk_data] Downloading package punkt to C:\\Users\\du-\n",
      "[nltk_data]     wa\\AppData\\Roaming\\nltk_data...\n",
      "[nltk_data]   Package punkt is already up-to-date!\n"
     ]
    },
    {
     "ename": "ImportError",
     "evalue": "cannot import name 'ServiceContext' from 'llama_index' (unknown location)",
     "output_type": "error",
     "traceback": [
      "\u001b[1;31m---------------------------------------------------------------------------\u001b[0m",
      "\u001b[1;31mImportError\u001b[0m                               Traceback (most recent call last)",
      "Cell \u001b[1;32mIn[41], line 1\u001b[0m\n\u001b[1;32m----> 1\u001b[0m \u001b[38;5;28;01mfrom\u001b[39;00m \u001b[38;5;21;01mutils\u001b[39;00m \u001b[38;5;28;01mimport\u001b[39;00m build_sentence_window_index\n\u001b[0;32m      3\u001b[0m sentence_index \u001b[38;5;241m=\u001b[39m build_sentence_window_index(\n\u001b[0;32m      4\u001b[0m     document,\n\u001b[0;32m      5\u001b[0m     llm,\n\u001b[0;32m      6\u001b[0m     embed_model\u001b[38;5;241m=\u001b[39m\u001b[38;5;124m\"\u001b[39m\u001b[38;5;124mtext-embedding-3-large\u001b[39m\u001b[38;5;124m\"\u001b[39m,\n\u001b[0;32m      7\u001b[0m     save_dir\u001b[38;5;241m=\u001b[39m\u001b[38;5;124m\"\u001b[39m\u001b[38;5;124msentence_index\u001b[39m\u001b[38;5;124m\"\u001b[39m\n\u001b[0;32m      8\u001b[0m )\n",
      "File \u001b[1;32mc:\\Git_Repos\\Awesome-RAG-Challenge\\utils.py:62\u001b[0m\n\u001b[0;32m     58\u001b[0m     tru_recorder \u001b[38;5;241m=\u001b[39m TruLlama(query_engine, app_id\u001b[38;5;241m=\u001b[39mapp_id, feedbacks\u001b[38;5;241m=\u001b[39mfeedbacks)\n\u001b[0;32m     59\u001b[0m     \u001b[38;5;28;01mreturn\u001b[39;00m tru_recorder\n\u001b[1;32m---> 62\u001b[0m \u001b[38;5;28;01mfrom\u001b[39;00m \u001b[38;5;21;01mllama_index\u001b[39;00m \u001b[38;5;28;01mimport\u001b[39;00m ServiceContext, VectorStoreIndex, StorageContext\n\u001b[0;32m     63\u001b[0m \u001b[38;5;28;01mfrom\u001b[39;00m \u001b[38;5;21;01mllama_index\u001b[39;00m\u001b[38;5;21;01m.\u001b[39;00m\u001b[38;5;21;01mnode_parser\u001b[39;00m \u001b[38;5;28;01mimport\u001b[39;00m SentenceWindowNodeParser\n\u001b[0;32m     64\u001b[0m \u001b[38;5;28;01mfrom\u001b[39;00m \u001b[38;5;21;01mllama_index\u001b[39;00m\u001b[38;5;21;01m.\u001b[39;00m\u001b[38;5;21;01mindices\u001b[39;00m\u001b[38;5;21;01m.\u001b[39;00m\u001b[38;5;21;01mpostprocessor\u001b[39;00m \u001b[38;5;28;01mimport\u001b[39;00m MetadataReplacementPostProcessor\n",
      "\u001b[1;31mImportError\u001b[0m: cannot import name 'ServiceContext' from 'llama_index' (unknown location)"
     ]
    }
   ],
   "source": [
    "from utils import build_sentence_window_index\n",
    "\n",
    "sentence_index = build_sentence_window_index(\n",
    "    document,\n",
    "    llm,\n",
    "    embed_model=\"text-embedding-3-large\",\n",
    "    save_dir=\"sentence_index\"\n",
    ")"
   ]
  },
  {
   "cell_type": "code",
   "execution_count": 42,
   "metadata": {},
   "outputs": [
    {
     "name": "stderr",
     "output_type": "stream",
     "text": [
      "C:\\Users\\du-wa\\AppData\\Local\\Temp\\ipykernel_3212\\896718139.py:6: DeprecationWarning: Call to deprecated class method from_defaults. (ServiceContext is deprecated, please use `llama_index.settings.Settings` instead.) -- Deprecated since version 0.10.0.\n",
      "  service_context = ServiceContext.from_defaults(\n"
     ]
    },
    {
     "ename": "ImportError",
     "evalue": "`llama-index-embeddings-huggingface` package not found, please run `pip install llama-index-embeddings-huggingface`",
     "output_type": "error",
     "traceback": [
      "\u001b[1;31m---------------------------------------------------------------------------\u001b[0m",
      "\u001b[1;31mModuleNotFoundError\u001b[0m                       Traceback (most recent call last)",
      "File \u001b[1;32mc:\\Git_Repos\\Awesome-RAG-Challenge\\venv\\Lib\\site-packages\\llama_index\\core\\embeddings\\utils.py:95\u001b[0m, in \u001b[0;36mresolve_embed_model\u001b[1;34m(embed_model, callback_manager)\u001b[0m\n\u001b[0;32m     94\u001b[0m \u001b[38;5;28;01mtry\u001b[39;00m:\n\u001b[1;32m---> 95\u001b[0m     \u001b[38;5;28;01mfrom\u001b[39;00m \u001b[38;5;21;01mllama_index\u001b[39;00m\u001b[38;5;21;01m.\u001b[39;00m\u001b[38;5;21;01membeddings\u001b[39;00m\u001b[38;5;21;01m.\u001b[39;00m\u001b[38;5;21;01mhuggingface\u001b[39;00m \u001b[38;5;28;01mimport\u001b[39;00m (\n\u001b[0;32m     96\u001b[0m         HuggingFaceEmbedding,\n\u001b[0;32m     97\u001b[0m     )  \u001b[38;5;66;03m# pants: no-infer-dep\u001b[39;00m\n\u001b[0;32m     99\u001b[0m     splits \u001b[38;5;241m=\u001b[39m embed_model\u001b[38;5;241m.\u001b[39msplit(\u001b[38;5;124m\"\u001b[39m\u001b[38;5;124m:\u001b[39m\u001b[38;5;124m\"\u001b[39m, \u001b[38;5;241m1\u001b[39m)\n",
      "\u001b[1;31mModuleNotFoundError\u001b[0m: No module named 'llama_index.embeddings.huggingface'",
      "\nDuring handling of the above exception, another exception occurred:\n",
      "\u001b[1;31mImportError\u001b[0m                               Traceback (most recent call last)",
      "Cell \u001b[1;32mIn[42], line 6\u001b[0m\n\u001b[0;32m      3\u001b[0m \u001b[38;5;28;01mfrom\u001b[39;00m \u001b[38;5;21;01mllama_index\u001b[39;00m\u001b[38;5;21;01m.\u001b[39;00m\u001b[38;5;21;01mllms\u001b[39;00m\u001b[38;5;21;01m.\u001b[39;00m\u001b[38;5;21;01mopenai\u001b[39;00m \u001b[38;5;28;01mimport\u001b[39;00m OpenAI\n\u001b[0;32m      5\u001b[0m llm \u001b[38;5;241m=\u001b[39m OpenAI(model\u001b[38;5;241m=\u001b[39m\u001b[38;5;124m\"\u001b[39m\u001b[38;5;124mgpt-3.5-turbo\u001b[39m\u001b[38;5;124m\"\u001b[39m, temperature\u001b[38;5;241m=\u001b[39m\u001b[38;5;241m0.1\u001b[39m)\n\u001b[1;32m----> 6\u001b[0m service_context \u001b[38;5;241m=\u001b[39m \u001b[43mServiceContext\u001b[49m\u001b[38;5;241;43m.\u001b[39;49m\u001b[43mfrom_defaults\u001b[49m\u001b[43m(\u001b[49m\n\u001b[0;32m      7\u001b[0m \u001b[43m    \u001b[49m\u001b[43mllm\u001b[49m\u001b[38;5;241;43m=\u001b[39;49m\u001b[43mllm\u001b[49m\u001b[43m,\u001b[49m\u001b[43m \u001b[49m\u001b[43membed_model\u001b[49m\u001b[38;5;241;43m=\u001b[39;49m\u001b[38;5;124;43m\"\u001b[39;49m\u001b[38;5;124;43mtext-embedding-3-large\u001b[39;49m\u001b[38;5;124;43m\"\u001b[39;49m\n\u001b[0;32m      8\u001b[0m \u001b[43m)\u001b[49m\n\u001b[0;32m      9\u001b[0m index \u001b[38;5;241m=\u001b[39m VectorStoreIndex\u001b[38;5;241m.\u001b[39mfrom_documents([documents],\n\u001b[0;32m     10\u001b[0m                                         service_context\u001b[38;5;241m=\u001b[39mservice_context)\n",
      "File \u001b[1;32mc:\\Git_Repos\\Awesome-RAG-Challenge\\venv\\Lib\\site-packages\\deprecated\\classic.py:285\u001b[0m, in \u001b[0;36mdeprecated.<locals>.wrapper_function\u001b[1;34m(wrapped_, instance_, args_, kwargs_)\u001b[0m\n\u001b[0;32m    283\u001b[0m \u001b[38;5;28;01melse\u001b[39;00m:\n\u001b[0;32m    284\u001b[0m     warnings\u001b[38;5;241m.\u001b[39mwarn(msg, category\u001b[38;5;241m=\u001b[39mcategory, stacklevel\u001b[38;5;241m=\u001b[39m_routine_stacklevel)\n\u001b[1;32m--> 285\u001b[0m \u001b[38;5;28;01mreturn\u001b[39;00m \u001b[43mwrapped_\u001b[49m\u001b[43m(\u001b[49m\u001b[38;5;241;43m*\u001b[39;49m\u001b[43margs_\u001b[49m\u001b[43m,\u001b[49m\u001b[43m \u001b[49m\u001b[38;5;241;43m*\u001b[39;49m\u001b[38;5;241;43m*\u001b[39;49m\u001b[43mkwargs_\u001b[49m\u001b[43m)\u001b[49m\n",
      "File \u001b[1;32mc:\\Git_Repos\\Awesome-RAG-Challenge\\venv\\Lib\\site-packages\\llama_index\\core\\service_context.py:200\u001b[0m, in \u001b[0;36mServiceContext.from_defaults\u001b[1;34m(cls, llm_predictor, llm, prompt_helper, embed_model, node_parser, text_splitter, transformations, llama_logger, callback_manager, system_prompt, query_wrapper_prompt, pydantic_program_mode, chunk_size, chunk_overlap, context_window, num_output, chunk_size_limit)\u001b[0m\n\u001b[0;32m    195\u001b[0m         llm_predictor\u001b[38;5;241m.\u001b[39mquery_wrapper_prompt \u001b[38;5;241m=\u001b[39m query_wrapper_prompt\n\u001b[0;32m    197\u001b[0m \u001b[38;5;66;03m# NOTE: the embed_model isn't used in all indices\u001b[39;00m\n\u001b[0;32m    198\u001b[0m \u001b[38;5;66;03m# NOTE: embed model should be a transformation, but the way the service\u001b[39;00m\n\u001b[0;32m    199\u001b[0m \u001b[38;5;66;03m# context works, we can't put in there yet.\u001b[39;00m\n\u001b[1;32m--> 200\u001b[0m embed_model \u001b[38;5;241m=\u001b[39m \u001b[43mresolve_embed_model\u001b[49m\u001b[43m(\u001b[49m\u001b[43membed_model\u001b[49m\u001b[43m)\u001b[49m\n\u001b[0;32m    201\u001b[0m embed_model\u001b[38;5;241m.\u001b[39mcallback_manager \u001b[38;5;241m=\u001b[39m callback_manager\n\u001b[0;32m    203\u001b[0m prompt_helper \u001b[38;5;241m=\u001b[39m prompt_helper \u001b[38;5;129;01mor\u001b[39;00m _get_default_prompt_helper(\n\u001b[0;32m    204\u001b[0m     llm_metadata\u001b[38;5;241m=\u001b[39mllm_predictor\u001b[38;5;241m.\u001b[39mmetadata,\n\u001b[0;32m    205\u001b[0m     context_window\u001b[38;5;241m=\u001b[39mcontext_window,\n\u001b[0;32m    206\u001b[0m     num_output\u001b[38;5;241m=\u001b[39mnum_output,\n\u001b[0;32m    207\u001b[0m )\n",
      "File \u001b[1;32mc:\\Git_Repos\\Awesome-RAG-Challenge\\venv\\Lib\\site-packages\\llama_index\\core\\embeddings\\utils.py:114\u001b[0m, in \u001b[0;36mresolve_embed_model\u001b[1;34m(embed_model, callback_manager)\u001b[0m\n\u001b[0;32m    110\u001b[0m         embed_model \u001b[38;5;241m=\u001b[39m HuggingFaceEmbedding(\n\u001b[0;32m    111\u001b[0m             model_name\u001b[38;5;241m=\u001b[39mmodel_name, cache_folder\u001b[38;5;241m=\u001b[39mcache_folder\n\u001b[0;32m    112\u001b[0m         )\n\u001b[0;32m    113\u001b[0m     \u001b[38;5;28;01mexcept\u001b[39;00m \u001b[38;5;167;01mImportError\u001b[39;00m:\n\u001b[1;32m--> 114\u001b[0m         \u001b[38;5;28;01mraise\u001b[39;00m \u001b[38;5;167;01mImportError\u001b[39;00m(\n\u001b[0;32m    115\u001b[0m             \u001b[38;5;124m\"\u001b[39m\u001b[38;5;124m`llama-index-embeddings-huggingface` package not found, \u001b[39m\u001b[38;5;124m\"\u001b[39m\n\u001b[0;32m    116\u001b[0m             \u001b[38;5;124m\"\u001b[39m\u001b[38;5;124mplease run `pip install llama-index-embeddings-huggingface`\u001b[39m\u001b[38;5;124m\"\u001b[39m\n\u001b[0;32m    117\u001b[0m         )\n\u001b[0;32m    119\u001b[0m \u001b[38;5;28;01mif\u001b[39;00m LCEmbeddings \u001b[38;5;129;01mis\u001b[39;00m \u001b[38;5;129;01mnot\u001b[39;00m \u001b[38;5;28;01mNone\u001b[39;00m \u001b[38;5;129;01mand\u001b[39;00m \u001b[38;5;28misinstance\u001b[39m(embed_model, LCEmbeddings):\n\u001b[0;32m    120\u001b[0m     \u001b[38;5;28;01mtry\u001b[39;00m:\n",
      "\u001b[1;31mImportError\u001b[0m: `llama-index-embeddings-huggingface` package not found, please run `pip install llama-index-embeddings-huggingface`"
     ]
    }
   ],
   "source": [
    "from llama_index.core import VectorStoreIndex\n",
    "from llama_index.llms.openai import OpenAI\n",
    "\n",
    "llm = OpenAI(model=\"gpt-3.5-turbo\", temperature=0.1)\n",
    "\n",
    "index = VectorStoreIndex.from_documents([documents],\n",
    "                                        service_context=service_context)"
   ]
  }
 ],
 "metadata": {
  "kernelspec": {
   "display_name": "venv",
   "language": "python",
   "name": "python3"
  },
  "language_info": {
   "codemirror_mode": {
    "name": "ipython",
    "version": 3
   },
   "file_extension": ".py",
   "mimetype": "text/x-python",
   "name": "python",
   "nbconvert_exporter": "python",
   "pygments_lexer": "ipython3",
   "version": "3.12.0"
  }
 },
 "nbformat": 4,
 "nbformat_minor": 2
}
